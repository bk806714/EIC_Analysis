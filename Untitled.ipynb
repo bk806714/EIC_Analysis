{
 "cells": [
  {
   "cell_type": "markdown",
   "id": "4a05390e",
   "metadata": {},
   "source": [
    "## Analyze the hepmc files\n"
   ]
  },
  {
   "cell_type": "code",
   "execution_count": 1,
   "id": "b51bbf8d",
   "metadata": {},
   "outputs": [],
   "source": [
    "#%matplotlib notebook\n",
    "import uproot as ur\n",
    "import matplotlib.pyplot as plt\n",
    "import k3d\n",
    "import numpy as np\n",
    "import awkward as ak\n",
    "import mplhep as hep\n",
    "from __future__ import print_function\n",
    "from scipy.optimize import curve_fit\n",
    "from matplotlib.ticker import FormatStrFormatter\n",
    "from matplotlib.ticker import (MultipleLocator, FormatStrFormatter,\n",
    "                               AutoMinorLocator)\n",
    "from matplotlib.legend_handler import HandlerLine2D\n",
    "#from scipy.stats import norm\n",
    "import matplotlib.lines as mlines\n",
    "import matplotlib.colors as mcolors\n",
    "from scipy import integrate\n",
    "import mplhep as hep\n",
    "\n",
    "#hep.set_style(\"CMS\")\n",
    "\n",
    "\n",
    "\n",
    "import h5py as h5\n",
    "#import energyflow as ef\n",
    "#from energyflow.archs import PFN\n",
    "#from energyflow.utils import data_split\n",
    "#import tensorflow as tf\n",
    "from sklearn.preprocessing import StandardScaler"
   ]
  },
  {
   "cell_type": "code",
   "execution_count": 2,
   "id": "4da61331",
   "metadata": {},
   "outputs": [
    {
     "name": "stderr",
     "output_type": "stream",
     "text": [
      "/tmp/ipykernel_2691525/1291494054.py:10: FutureWarning: ``set_style`` is deprecated: Naming convention is changing to match mpl. Use ``mplhep.style.use()``.\n",
      "  hep.set_style(\"CMS\")\n"
     ]
    }
   ],
   "source": [
    "params = {'legend.fontsize': '30',\n",
    "          'figure.figsize': (15, 10),\n",
    "         'axes.labelsize': 'x-large',\n",
    "         'axes.titlesize':'x-large',\n",
    "         'xtick.labelsize':'30',\n",
    "         'ytick.labelsize':'30',\n",
    "          \n",
    "         'axes.labelsize': '30',\n",
    "         'axes.titlesize': '30'}\n",
    "hep.set_style(\"CMS\")\n",
    "plt.rcParams.update(params)"
   ]
  },
  {
   "cell_type": "code",
   "execution_count": 4,
   "id": "913d3ae2",
   "metadata": {},
   "outputs": [],
   "source": [
    "#### CHOOSE ELECTRON OR PION ('electron' and 'Pion')\n",
    "\n",
    "particle='Pion'\n",
    "#particle='electron'\n",
    "\n",
    "\n",
    "if particle=='Pion':\n",
    "    #FilePathReco=\"/home/bishnu/EIC/Data/Pion/\"\n",
    "    FilePathReco=\"/media/miguel/Elements/HCAL_Insert_Sim_Files/updated_hcal_layers/\"\n",
    "    \n",
    "    \n",
    "elif particle=='electron':\n",
    "    FilePathReco=\"/home/bishnu/EIC/Data/electron/\"\n",
    "\n",
    "## PATH WHERE FIGURE ARE SAVED  \n",
    "PathToPlot='/home/bishnu/UCR_EIC/Plots/'        \n",
    "Energy_Threshold=0.06 #(Mev)\n",
    "Time_Threshold=200 #ns\n",
    "MIP=0.6 #GeV\n",
    "Gev_To_MeV=1000\n",
    "Sigma_For_leakage=2\n",
    "Mean_pions=[]\n",
    "Mean_electrons=[]\n",
    "\n",
    "\n",
    "FileName=\"insert_reco_pi-_50GeV_theta_30deg_Athena_30W_24Fe.edm4hep.root\""
   ]
  },
  {
   "cell_type": "code",
   "execution_count": 6,
   "id": "ec5c9354",
   "metadata": {},
   "outputs": [
    {
     "data": {
      "text/plain": [
       "<Figure size 800x600 with 0 Axes>"
      ]
     },
     "metadata": {},
     "output_type": "display_data"
    }
   ],
   "source": [
    "events=ur.open(f\"{FilePathReco}{FileName}:events\")\n",
    "events.keys()\n",
    "arrays = events.arrays()\n",
    "\n",
    "\n",
    "#ene = Gev_To_MeV*(ak.flatten(arrays['HcalEndcapPInsertHitsReco.energy'][:])) # in Mev\n",
    "ene = Gev_To_MeV*(arrays['HcalEndcapPHitsReco.energy'][:]) # in Mev\n",
    "time = (arrays['HcalEndcapPHitsReco.time'][:]) # in ns\n",
    "#time = (ak.flatten(arrays['HcalEndcapPInsertHitsReco.time'][:])) # in ns\n",
    "PosRecoX = (arrays['HcalEndcapPHitsReco.position.x'])/10.0\n",
    "PosRecoY = (arrays['HcalEndcapPHitsReco.position.y'])/10.0\n",
    "PosRecoZ= (arrays['HcalEndcapPHitsReco.position.z'])/10.0\n",
    "\n",
    "\n",
    "cut_primary = arrays[\"MCParticles.generatorStatus\"]==1\n",
    "px = arrays['MCParticles.momentum.x'][cut_primary]\n",
    "py = arrays['MCParticles.momentum.y'][cut_primary]\n",
    "pz = arrays['MCParticles.momentum.z'][cut_primary]\n",
    "mass = arrays[\"MCParticles.mass\"][cut_primary]\n",
    "ID=arrays['MCParticles.PDG']#[cut_primary]\n",
    "\n",
    "#Calculate generated primary particle properties\n",
    "mom = np.sqrt(px**2+py**2+pz**2)\n",
    "energy = np.sqrt(mom**2+mass**2)\n",
    "fig = plt.figure( figsize=(8, 6))\n",
    "phi = np.arctan2(py,px)"
   ]
  },
  {
   "cell_type": "code",
   "execution_count": null,
   "id": "02c8496c",
   "metadata": {},
   "outputs": [],
   "source": [
    "plt.hist()"
   ]
  }
 ],
 "metadata": {
  "kernelspec": {
   "display_name": "Python 3 (ipykernel)",
   "language": "python",
   "name": "python3"
  },
  "language_info": {
   "codemirror_mode": {
    "name": "ipython",
    "version": 3
   },
   "file_extension": ".py",
   "mimetype": "text/x-python",
   "name": "python",
   "nbconvert_exporter": "python",
   "pygments_lexer": "ipython3",
   "version": "3.9.12"
  }
 },
 "nbformat": 4,
 "nbformat_minor": 5
}
