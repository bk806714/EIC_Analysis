{
 "cells": [
  {
   "cell_type": "markdown",
   "id": "4a05390e",
   "metadata": {},
   "source": [
    "## Analyze the hepmc files\n"
   ]
  },
  {
   "cell_type": "code",
   "execution_count": 1,
   "id": "b51bbf8d",
   "metadata": {},
   "outputs": [
    {
     "name": "stderr",
     "output_type": "stream",
     "text": [
      "/tmp/ipykernel_347003/733797329.py:20: FutureWarning: ``set_style`` is deprecated: Naming convention is changing to match mpl. Use ``mplhep.style.use()``.\n",
      "  hep.set_style(\"CMS\")\n"
     ]
    }
   ],
   "source": [
    "#%matplotlib notebook\n",
    "import uproot as ur\n",
    "import matplotlib.pyplot as plt\n",
    "import k3d\n",
    "import numpy as np\n",
    "import awkward as ak\n",
    "import mplhep as hep\n",
    "from __future__ import print_function\n",
    "from scipy.optimize import curve_fit\n",
    "from matplotlib.ticker import FormatStrFormatter\n",
    "from matplotlib.ticker import (MultipleLocator, FormatStrFormatter,\n",
    "                               AutoMinorLocator)\n",
    "from matplotlib.legend_handler import HandlerLine2D\n",
    "#from scipy.stats import norm\n",
    "import matplotlib.lines as mlines\n",
    "import matplotlib.colors as mcolors\n",
    "from scipy import integrate\n",
    "import mplhep as hep\n",
    "\n",
    "hep.set_style(\"CMS\")"
   ]
  },
  {
   "cell_type": "code",
   "execution_count": 2,
   "id": "4da61331",
   "metadata": {},
   "outputs": [],
   "source": [
    "params = {'legend.fontsize': '30',\n",
    "          'figure.figsize': (15, 10),\n",
    "         'axes.labelsize': 'x-large',\n",
    "         'axes.titlesize':'x-large',\n",
    "         'xtick.labelsize':'30',\n",
    "         'ytick.labelsize':'30',\n",
    "          \n",
    "         'axes.labelsize': '30',\n",
    "         'axes.titlesize': '30'}\n",
    "hep.set_style(\"CMS\")\n",
    "plt.rcParams.update(params)"
   ]
  },
  {
   "cell_type": "code",
   "execution_count": null,
   "id": "913d3ae2",
   "metadata": {},
   "outputs": [],
   "source": [
    "#### CHOOSE ELECTRON OR PION ('electron' and 'Pion')\n",
    "\n",
    "particle='Pion'\n",
    "#particle='electron'\n",
    "\n",
    "\n",
    "if particle=='Pion':\n",
    "    FilePathReco=\"/home/bishnu/EIC/Data/Pion/\"\n",
    "    \n",
    "elif particle=='electron':\n",
    "    FilePathReco=\"/home/bishnu/EIC/Data/electron/\"\n",
    "\n",
    "## PATH WHERE FIGURE ARE SAVED  \n",
    "PathToPlot='/home/bishnu/UCR_EIC/Plots/'        \n",
    "Energy_Threshold=0.06 #(Mev)\n",
    "Time_Threshold=200 #ns\n",
    "MIP=0.6 #GeV\n",
    "Gev_To_MeV=1000\n",
    "Sigma_For_leakage=2\n",
    "Mean_pions=[]\n",
    "Mean_electrons=[]"
   ]
  }
 ],
 "metadata": {
  "kernelspec": {
   "display_name": "Python 3 (ipykernel)",
   "language": "python",
   "name": "python3"
  },
  "language_info": {
   "codemirror_mode": {
    "name": "ipython",
    "version": 3
   },
   "file_extension": ".py",
   "mimetype": "text/x-python",
   "name": "python",
   "nbconvert_exporter": "python",
   "pygments_lexer": "ipython3",
   "version": "3.9.7"
  }
 },
 "nbformat": 4,
 "nbformat_minor": 5
}
